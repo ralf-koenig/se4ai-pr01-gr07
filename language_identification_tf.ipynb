{
 "cells": [
  {
   "cell_type": "markdown",
   "metadata": {},
   "source": [
    "# Language identification model construction\n",
    "\n",
    "## Objectives\n",
    "\n",
    "* Perform a simple exploration over a text dataset of language identification\n",
    "* Build a simple neural network for automatic identification of language (english, spanish and german)\n",
    "\n",
    "## Requirements\n",
    "\n",
    "For installing all necessar requirements use the language_identification.yml and the following commands   \n",
    "```\n",
    "conda env create -f language_identification.yml   \n",
    "conda activate language_identification\n",
    "```  \n",
    "For installing a kernel for running this notebook create a new ipython kernel within the activated environment\n",
    "```\n",
    "python -m ipykernel install --user --name=language_detection\n",
    "```\n",
    "  "
   ]
  },
  {
   "cell_type": "code",
   "execution_count": 33,
   "metadata": {},
   "outputs": [],
   "source": [
    "# Run only if you want to install the packages from inside the notebook\n",
    "# %pip install tensorflow==2.8.0 pandas==1.3.5 numpy==1.21.5 scikit-learn==1.0.2 matplotlib==3.2.2 nltk==3.2.5 pydot==1.3.0"
   ]
  },
  {
   "cell_type": "code",
   "execution_count": 34,
   "metadata": {},
   "outputs": [
    {
     "name": "stderr",
     "output_type": "stream",
     "text": [
      "[nltk_data] Downloading package stopwords to\n",
      "[nltk_data]     /home/mailach/nltk_data...\n",
      "[nltk_data]   Package stopwords is already up-to-date!\n",
      "[nltk_data] Downloading package punkt to /home/mailach/nltk_data...\n",
      "[nltk_data]   Package punkt is already up-to-date!\n"
     ]
    },
    {
     "data": {
      "text/plain": [
       "True"
      ]
     },
     "execution_count": 34,
     "metadata": {},
     "output_type": "execute_result"
    }
   ],
   "source": [
    "import matplotlib.pyplot as plt\n",
    "import nltk\n",
    "import tensorflow as tf\n",
    "import pandas as pd\n",
    "import numpy as np\n",
    "from nltk.corpus import stopwords\n",
    "from nltk.probability import FreqDist\n",
    "from nltk.tokenize import word_tokenize\n",
    "from sklearn import preprocessing\n",
    "\n",
    "from tensorflow.keras import layers\n",
    "from tensorflow.keras import losses\n",
    "\n",
    "nltk.download('stopwords')\n",
    "nltk.download('punkt')"
   ]
  },
  {
   "cell_type": "code",
   "execution_count": 35,
   "metadata": {},
   "outputs": [
    {
     "name": "stdout",
     "output_type": "stream",
     "text": [
      "2.8.0\n"
     ]
    }
   ],
   "source": [
    "# Check TF version\n",
    "\n",
    "print(tf.__version__)"
   ]
  },
  {
   "cell_type": "markdown",
   "metadata": {},
   "source": [
    "# Data importation\n",
    "\n",
    "In this step, we will use a dataset of 90k samples consisting of text passages and their corresponding language label. This dataset contains samples from 20 different languages. However for our example we will focus on 3 different languages: English, Spanish and German. [Further information can be found here](https://huggingface.co/datasets/papluca/language-identification)"
   ]
  },
  {
   "cell_type": "code",
   "execution_count": 36,
   "metadata": {},
   "outputs": [],
   "source": [
    "# Define our directory for saving the dataset\n",
    "\n",
    "DATA_DIRECTORY = \"data\""
   ]
  },
  {
   "cell_type": "code",
   "execution_count": 37,
   "metadata": {},
   "outputs": [
    {
     "name": "stdout",
     "output_type": "stream",
     "text": [
      "--2022-04-11 18:50:10--  https://huggingface.co/datasets/papluca/language-identification/resolve/main/train.csv\n",
      "Resolving huggingface.co (huggingface.co)... 2600:1f18:147f:e800:a302:ad0e:3722:dcfb, 2600:1f18:147f:e850:6c0d:9a67:3e5:c11, 2600:1f18:147f:e850:4e87:e217:2e92:4bdd, ...\n",
      "Connecting to huggingface.co (huggingface.co)|2600:1f18:147f:e800:a302:ad0e:3722:dcfb|:443... connected.\n",
      "HTTP request sent, awaiting response... 302 Found\n",
      "Location: https://cdn-lfs.huggingface.co/datasets/papluca/language-identification/f180d78a1f0e758fd33bb1bae37f62eebc538d78ece2affb3d05a967850ba474 [following]\n",
      "--2022-04-11 18:50:11--  https://cdn-lfs.huggingface.co/datasets/papluca/language-identification/f180d78a1f0e758fd33bb1bae37f62eebc538d78ece2affb3d05a967850ba474\n",
      "Resolving cdn-lfs.huggingface.co (cdn-lfs.huggingface.co)... 2600:9000:2250:fc00:11:f807:5180:93a1, 2600:9000:2250:ca00:11:f807:5180:93a1, 2600:9000:2250:ce00:11:f807:5180:93a1, ...\n",
      "Connecting to cdn-lfs.huggingface.co (cdn-lfs.huggingface.co)|2600:9000:2250:fc00:11:f807:5180:93a1|:443... connected.\n",
      "HTTP request sent, awaiting response... 200 OK\n",
      "Length: 11951457 (11M) [binary/octet-stream]\n",
      "Saving to: ‘train.csv’\n",
      "\n",
      "train.csv           100%[===================>]  11,40M  22,9MB/s    in 0,5s    \n",
      "\n",
      "2022-04-11 18:50:11 (22,9 MB/s) - ‘train.csv’ saved [11951457/11951457]\n",
      "\n",
      "--2022-04-11 18:50:11--  https://huggingface.co/datasets/papluca/language-identification/resolve/main/valid.csv\n",
      "Resolving huggingface.co (huggingface.co)... 2600:1f18:147f:e800:a302:ad0e:3722:dcfb, 2600:1f18:147f:e800:7c26:7b12:8f9a:5604, 2600:1f18:147f:e850:4e87:e217:2e92:4bdd, ...\n",
      "Connecting to huggingface.co (huggingface.co)|2600:1f18:147f:e800:a302:ad0e:3722:dcfb|:443... connected.\n",
      "HTTP request sent, awaiting response... 200 OK\n",
      "Length: 1705420 (1,6M) [text/csv]\n",
      "Saving to: ‘valid.csv’\n",
      "\n",
      "valid.csv           100%[===================>]   1,63M  1,30MB/s    in 1,2s    \n",
      "\n",
      "2022-04-11 18:50:14 (1,30 MB/s) - ‘valid.csv’ saved [1705420/1705420]\n",
      "\n",
      "--2022-04-11 18:50:14--  https://huggingface.co/datasets/papluca/language-identification/resolve/main/test.csv\n",
      "Resolving huggingface.co (huggingface.co)... 2600:1f18:147f:e800:7c26:7b12:8f9a:5604, 2600:1f18:147f:e850:6c0d:9a67:3e5:c11, 2600:1f18:147f:e850:4e87:e217:2e92:4bdd, ...\n",
      "Connecting to huggingface.co (huggingface.co)|2600:1f18:147f:e800:7c26:7b12:8f9a:5604|:443... connected.\n",
      "HTTP request sent, awaiting response... 200 OK\n",
      "Length: 1686134 (1,6M) [text/csv]\n",
      "Saving to: ‘test.csv’\n",
      "\n",
      "test.csv            100%[===================>]   1,61M  1,48MB/s    in 1,1s    \n",
      "\n",
      "2022-04-11 18:50:16 (1,48 MB/s) - ‘test.csv’ saved [1686134/1686134]\n",
      "\n"
     ]
    }
   ],
   "source": [
    "# Download data and save it into the data folder\n",
    "\n",
    "!rm -rf {DATA_DIRECTORY}\n",
    "!wget https://huggingface.co/datasets/papluca/language-identification/resolve/main/train.csv\n",
    "!wget https://huggingface.co/datasets/papluca/language-identification/resolve/main/valid.csv\n",
    "!wget https://huggingface.co/datasets/papluca/language-identification/resolve/main/test.csv\n",
    "!mkdir -p {DATA_DIRECTORY}\n",
    "!mv *.csv {DATA_DIRECTORY}"
   ]
  },
  {
   "cell_type": "code",
   "execution_count": 38,
   "metadata": {},
   "outputs": [],
   "source": [
    "# Load data in pandas for filtering\n",
    "\n",
    "train_df = pd.read_csv(f\"{DATA_DIRECTORY}/train.csv\")\n",
    "val_df = pd.read_csv(f\"{DATA_DIRECTORY}/valid.csv\")\n",
    "test_df = pd.read_csv(f\"{DATA_DIRECTORY}/test.csv\")"
   ]
  },
  {
   "cell_type": "code",
   "execution_count": 39,
   "metadata": {},
   "outputs": [],
   "source": [
    "# Select only \"en\", \"es\" and \"de\"\n",
    "lang_list = [\"es\", \"en\", \"de\"]\n",
    "\n",
    "train_df = train_df.loc[train_df.labels.isin(lang_list)]\n",
    "val_df = val_df.loc[val_df.labels.isin(lang_list)]\n",
    "test_df = test_df.loc[test_df.labels.isin(lang_list)]"
   ]
  },
  {
   "cell_type": "markdown",
   "metadata": {},
   "source": [
    "# Data exploration\n",
    "\n",
    "In this step, we will perform a simple analysis of some important characteristics of our dataset:\n",
    "\n",
    "* Word frequency distribution\n",
    "* Distribution of labels \n",
    "* Text passage length distribution"
   ]
  },
  {
   "cell_type": "code",
   "execution_count": 40,
   "metadata": {},
   "outputs": [
    {
     "name": "stdout",
     "output_type": "stream",
     "text": [
      "227718\n"
     ]
    }
   ],
   "source": [
    "# We calculate a list of words (tokens) which will be used for evaluate the distribution of\n",
    "# tokens in the dataset\n",
    "\n",
    "# We declare a stoplist for the three used languages\n",
    "stoplist = [stopwords.words(lang) for lang in [\"english\", \"spanish\", \"german\"]]\n",
    "stoplist = set([word for lang_list in stoplist for word in lang_list])\n",
    "\n",
    "# Now, only for visualization purposes we create a listh with all the tokens\n",
    "word_list = []\n",
    "for sentence in train_df[\"text\"].to_list():\n",
    "    word_list += [word for word in word_tokenize(sentence) if word not in stoplist]\n",
    "\n",
    "print(len(word_list))"
   ]
  },
  {
   "cell_type": "markdown",
   "metadata": {},
   "source": [
    "Our corpus consists of 227K different words."
   ]
  },
  {
   "cell_type": "code",
   "execution_count": 41,
   "metadata": {},
   "outputs": [
    {
     "data": {
      "image/png": "[encoded data removed]",
      "text/plain": [
       "<Figure size 576x432 with 1 Axes>"
      ]
     },
     "metadata": {
      "needs_background": "light"
     },
     "output_type": "display_data"
    },
    {
     "data": {
      "text/plain": [
       "<AxesSubplot:xlabel='Samples', ylabel='Counts'>"
      ]
     },
     "execution_count": 41,
     "metadata": {},
     "output_type": "execute_result"
    }
   ],
   "source": [
    "plt.figure(figsize=(8, 6)) \n",
    "\n",
    "fd = FreqDist(word_list)\n",
    "fd.plot(30)\n"
   ]
  },
  {
   "cell_type": "code",
   "execution_count": 42,
   "metadata": {},
   "outputs": [
    {
     "data": {
      "text/plain": [
       "es    3500\n",
       "de    3500\n",
       "en    3500\n",
       "Name: labels, dtype: int64"
      ]
     },
     "execution_count": 42,
     "metadata": {},
     "output_type": "execute_result"
    }
   ],
   "source": [
    "# Review the distribution of labels\n",
    "\n",
    "train_df.labels.value_counts()"
   ]
  },
  {
   "cell_type": "markdown",
   "metadata": {},
   "source": [
    "## Exploring the length of the text sequences\n",
    "\n",
    "Before we define a base architecture in TensorFlow, we must find a good value for the size of the input of the model. We evaluate the average size of each sample of the corpus."
   ]
  },
  {
   "cell_type": "code",
   "execution_count": 43,
   "metadata": {},
   "outputs": [
    {
     "data": {
      "image/png": "[encoded data removed]",
      "text/plain": [
       "<Figure size 432x288 with 1 Axes>"
      ]
     },
     "metadata": {
      "needs_background": "light"
     },
     "output_type": "display_data"
    }
   ],
   "source": [
    "# We then evaluate the size of each sentence in the corpus\n",
    "\n",
    "splitted_text = train_df['text'].apply(lambda txt: txt.split(' '))\n",
    "splitted_text_len = splitted_text.apply(lambda x: len(x))\n",
    "ax = splitted_text_len.plot.hist(bins=12, alpha=0.5)"
   ]
  },
  {
   "cell_type": "code",
   "execution_count": 44,
   "metadata": {},
   "outputs": [
    {
     "name": "stdout",
     "output_type": "stream",
     "text": [
      "Average length: 31.605238095238096\n",
      "Maximum length: 381\n",
      "Standard deviation length: 29.969598705150613\n"
     ]
    }
   ],
   "source": [
    "print(\"Average length: {}\".format(splitted_text_len.mean()))\n",
    "print(\"Maximum length: {}\".format(splitted_text_len.max()))\n",
    "print(\"Standard deviation length: {}\".format(splitted_text_len.std()))"
   ]
  },
  {
   "cell_type": "markdown",
   "metadata": {},
   "source": [
    "We have selected $50$, as it covers up to 68% of the data (one standard deviation). Sequences longer than $50$ words will be chunked. **This is done for the sake of simplicity** "
   ]
  },
  {
   "cell_type": "markdown",
   "metadata": {},
   "source": [
    "# Data preparation\n",
    "## Using `tf.data` for creating the dataset\n",
    "\n",
    "`tf.data` is one of the most useful libraries for accessing datasets in TensorFlow. It provides several handlers for reading and creating usable datasets with low memory footprint. In this section we:\n",
    "\n",
    "* Transform the language labels to integers\n",
    "* Build the datasets using `tf.data`\n",
    "* Transform the text input into sequences of up to 50 integers (vectorization)"
   ]
  },
  {
   "cell_type": "code",
   "execution_count": 45,
   "metadata": {},
   "outputs": [],
   "source": [
    "# Create dictionary for enconding labels\n",
    "# This is done using LabelEncoder from scikit-learn\n",
    "# It's quite useful when the number if classes is high\n",
    "\n",
    "le = preprocessing.LabelEncoder()\n",
    "le.fit(lang_list)\n",
    "\n",
    "num_classes = len(le.classes_)\n",
    "\n",
    "train_labels = tf.keras.utils.to_categorical(le.transform(train_df.pop('labels')), num_classes=num_classes)\n",
    "val_labels = tf.keras.utils.to_categorical(le.transform(val_df.pop('labels')), num_classes=num_classes)\n",
    "test_labels = tf.keras.utils.to_categorical(le.transform(test_df.pop('labels')), num_classes=num_classes)"
   ]
  },
  {
   "cell_type": "code",
   "execution_count": 46,
   "metadata": {},
   "outputs": [],
   "source": [
    "# We build then the datasets using tf.data\n",
    "raw_train_ds = tf.data.Dataset.from_tensor_slices((train_df[\"text\"].to_list(), train_labels)) # X, y\n",
    "raw_val_ds = tf.data.Dataset.from_tensor_slices((val_df[\"text\"].to_list(), val_labels))\n",
    "raw_test_ds = tf.data.Dataset.from_tensor_slices((test_df[\"text\"].to_list(), test_labels))"
   ]
  },
  {
   "cell_type": "code",
   "execution_count": 47,
   "metadata": {},
   "outputs": [
    {
     "name": "stdout",
     "output_type": "stream",
     "text": [
      "Text:  b'Un producto de una calidad y capacidad incre\\xc3\\xadbles que ser\\xc3\\xa1 el placer de todo amante de la tecnolog\\xc3\\xada'\n",
      "Label: [0. 0. 1.]\n"
     ]
    }
   ],
   "source": [
    "# Exploring a sample of the corpus\n",
    "\n",
    "batch_size = 32\n",
    "seed = 42\n",
    "\n",
    "for text, label in raw_train_ds.take(1):\n",
    "    print(\"Text: \", text.numpy())\n",
    "    print(\"Label:\", label.numpy())"
   ]
  },
  {
   "cell_type": "markdown",
   "metadata": {},
   "source": [
    "As you can see, the dataset is still raw, which means, it's still composed of text sequences."
   ]
  },
  {
   "cell_type": "markdown",
   "metadata": {},
   "source": [
    "## Preprocessing the dataset using `tf.keras.layers.TextVectorization`\n",
    "\n",
    "Before we feed our dataset to the model, we have to build a vectorized representation of each text using `tf.keras.layers.TextVectorization`. This layer can help to:\n",
    "\n",
    "* Preprocess the text data using common and custom standardization techniques\n",
    "* Transforms words into integers (\"book\" --> 45) \n",
    "\n",
    "We decided to keep the top $10.000$ most frequent words using the `TextVectorization` class."
   ]
  },
  {
   "cell_type": "code",
   "execution_count": 48,
   "metadata": {},
   "outputs": [],
   "source": [
    "# Prepare dataset for training\n",
    "\n",
    "max_features = 10000 # top 10K most frequent words\n",
    "sequence_length = 50 # We defined it in the previous data exploration section\n",
    "\n",
    "vectorize_layer = layers.TextVectorization(\n",
    "    standardize=\"lower_and_strip_punctuation\",\n",
    "    max_tokens=max_features,\n",
    "    output_mode='int',\n",
    "    output_sequence_length=sequence_length)"
   ]
  },
  {
   "cell_type": "markdown",
   "metadata": {},
   "source": [
    "This step is important to perform it only on the training set. The `adapt()` method will learn the vocabulary for our dataset"
   ]
  },
  {
   "cell_type": "code",
   "execution_count": 49,
   "metadata": {},
   "outputs": [],
   "source": [
    "# train_text = train_ds.map(lambda x, y: x)\n",
    "vectorize_layer.adapt(train_df[\"text\"].to_list()) # vectorize layer is fitted to the training data"
   ]
  },
  {
   "cell_type": "code",
   "execution_count": 50,
   "metadata": {},
   "outputs": [],
   "source": [
    "# Helper for visualizing the processed input\n",
    "def vectorize_text(text, label):\n",
    "    text = tf.expand_dims(text, -1)\n",
    "    return vectorize_layer(text), label"
   ]
  },
  {
   "cell_type": "code",
   "execution_count": 51,
   "metadata": {},
   "outputs": [
    {
     "name": "stdout",
     "output_type": "stream",
     "text": [
      "First text:  tf.Tensor(b'Un producto de una calidad y capacidad incre\\xc3\\xadbles que ser\\xc3\\xa1 el placer de todo amante de la tecnolog\\xc3\\xada', shape=(), dtype=string)\n",
      "Language (label) ['es']\n",
      "Vectorized text (<tf.Tensor: shape=(1, 50), dtype=int64, numpy=\n",
      "array([[  39,  112,    5,   61,   85,   11, 2033,    1,    7, 2603,   16,\n",
      "           1,    5,  162,    1,    5,   13, 7611,    0,    0,    0,    0,\n",
      "           0,    0,    0,    0,    0,    0,    0,    0,    0,    0,    0,\n",
      "           0,    0,    0,    0,    0,    0,    0,    0,    0,    0,    0,\n",
      "           0,    0,    0,    0,    0,    0]])>, <tf.Tensor: shape=(3,), dtype=float32, numpy=array([0., 0., 1.], dtype=float32)>)\n"
     ]
    }
   ],
   "source": [
    "# Reviewing how a sample of the corpus will be fed to the model\n",
    "\n",
    "text_batch, label_batch = next(iter(raw_train_ds.batch(64)))\n",
    "first_review, first_label = text_batch[0], label_batch[0]\n",
    "print(\"First text: \", first_review)\n",
    "print(\"Language (label)\", le.inverse_transform([np.argmax(first_label)]))\n",
    "print(\"Vectorized text\", vectorize_text(first_review, first_label))"
   ]
  },
  {
   "cell_type": "code",
   "execution_count": 52,
   "metadata": {},
   "outputs": [
    {
     "name": "stdout",
     "output_type": "stream",
     "text": [
      "1287 --->  utilizar\n",
      " 313 --->  box\n",
      "Vocabulary size: 10000\n"
     ]
    }
   ],
   "source": [
    "# Evaluate the vocabulary of the vectorize layer\n",
    "\n",
    "print(\"1287 ---> \",vectorize_layer.get_vocabulary()[1287])\n",
    "print(\" 313 ---> \",vectorize_layer.get_vocabulary()[313])\n",
    "print('Vocabulary size: {}'.format(len(vectorize_layer.get_vocabulary())))"
   ]
  },
  {
   "cell_type": "code",
   "execution_count": 53,
   "metadata": {},
   "outputs": [],
   "source": [
    "# Create the final datasets using the vectorize_layer\n",
    "\n",
    "train_ds = raw_train_ds.map(lambda x, y: (vectorize_layer(x), y)) # returns vectorize_layer(text), label\n",
    "val_ds = raw_val_ds.map(lambda x, y: (vectorize_layer(x), y))\n",
    "test_ds = raw_test_ds.map(lambda x, y: (vectorize_layer(x), y))"
   ]
  },
  {
   "cell_type": "code",
   "execution_count": 54,
   "metadata": {},
   "outputs": [],
   "source": [
    "# Applying cache techniques for improving inference and training time\n",
    "# It allows tensorflow to prepare the data while it trains the model\n",
    "\n",
    "AUTOTUNE = tf.data.AUTOTUNE\n",
    "\n",
    "train_ds = train_ds.batch(batch_size=batch_size)\n",
    "train_ds = train_ds.prefetch(AUTOTUNE)\n",
    "val_ds = val_ds.batch(batch_size=batch_size)\n",
    "val_ds = val_ds.prefetch(AUTOTUNE)\n",
    "test_ds = test_ds.batch(batch_size=batch_size)\n",
    "test_ds = test_ds.prefetch(AUTOTUNE)"
   ]
  },
  {
   "cell_type": "markdown",
   "metadata": {},
   "source": [
    "# Model training and specification\n",
    "\n",
    "Our simple architecture is defined as follows:\n",
    "* `Embedding` layer for building a more dense and compact representation for each of the top 10.000 most frequent words\n",
    "* `Dropout` layer for improving regularization\n",
    "* `GlobalAveragePooling1D` for returning a fixed-length ouput vector for each example. It averages over the sequence dimension, allowing the model to handle variable size inputs (less than 50) in a simple way.\n",
    "* `Dense` layer for the logits of each class (es, en, de)"
   ]
  },
  {
   "cell_type": "code",
   "execution_count": 55,
   "metadata": {},
   "outputs": [
    {
     "name": "stdout",
     "output_type": "stream",
     "text": [
      "Model: \"sequential_1\"\n",
      "_________________________________________________________________\n",
      " Layer (type)                Output Shape              Param #   \n",
      "=================================================================\n",
      " embedding_1 (Embedding)     (None, None, 16)          160016    \n",
      "                                                                 \n",
      " dropout_2 (Dropout)         (None, None, 16)          0         \n",
      "                                                                 \n",
      " global_average_pooling1d_1   (None, 16)               0         \n",
      " (GlobalAveragePooling1D)                                        \n",
      "                                                                 \n",
      " dropout_3 (Dropout)         (None, 16)                0         \n",
      "                                                                 \n",
      " dense_1 (Dense)             (None, 3)                 51        \n",
      "                                                                 \n",
      "=================================================================\n",
      "Total params: 160,067\n",
      "Trainable params: 160,067\n",
      "Non-trainable params: 0\n",
      "_________________________________________________________________\n"
     ]
    }
   ],
   "source": [
    "# Model training\n",
    "\n",
    "embedding_dim = 16\n",
    "model = tf.keras.Sequential([\n",
    "    layers.Embedding(max_features + 1, embedding_dim),\n",
    "    layers.Dropout(0.2),\n",
    "    layers.GlobalAveragePooling1D(),\n",
    "    layers.Dropout(0.2),\n",
    "    layers.Dense(3)])\n",
    "\n",
    "model.summary()\n"
   ]
  },
  {
   "cell_type": "code",
   "execution_count": 56,
   "metadata": {},
   "outputs": [
    {
     "data": {
      "image/png": "[encoded data removed]",
      "text/plain": [
       "<IPython.core.display.Image object>"
      ]
     },
     "execution_count": 56,
     "metadata": {},
     "output_type": "execute_result"
    }
   ],
   "source": [
    "tf.keras.utils.plot_model(model=model , rankdir=\"LR\", dpi=72, show_shapes=True)\n"
   ]
  },
  {
   "cell_type": "code",
   "execution_count": 57,
   "metadata": {},
   "outputs": [],
   "source": [
    "# Specify loss, optimizer and metrics\n",
    "\n",
    "model.compile(loss=losses.CategoricalCrossentropy(from_logits=True, label_smoothing=0.1),\n",
    "              optimizer='adam',\n",
    "              metrics=['accuracy'])"
   ]
  },
  {
   "cell_type": "code",
   "execution_count": 58,
   "metadata": {},
   "outputs": [
    {
     "name": "stdout",
     "output_type": "stream",
     "text": [
      "Epoch 1/10\n",
      "329/329 [==============================] - 3s 7ms/step - loss: 0.8974 - accuracy: 0.8746 - val_loss: 0.6427 - val_accuracy: 0.9887\n",
      "Epoch 2/10\n",
      "329/329 [==============================] - 3s 9ms/step - loss: 0.5328 - accuracy: 0.9912 - val_loss: 0.4577 - val_accuracy: 0.9973\n",
      "Epoch 3/10\n",
      "329/329 [==============================] - 3s 8ms/step - loss: 0.4456 - accuracy: 0.9976 - val_loss: 0.4265 - val_accuracy: 0.9993\n",
      "Epoch 4/10\n",
      "329/329 [==============================] - 2s 6ms/step - loss: 0.4272 - accuracy: 0.9986 - val_loss: 0.4180 - val_accuracy: 0.9993\n",
      "Epoch 5/10\n",
      "329/329 [==============================] - 2s 6ms/step - loss: 0.4191 - accuracy: 0.9989 - val_loss: 0.4134 - val_accuracy: 0.9993\n",
      "Epoch 6/10\n",
      "329/329 [==============================] - 2s 6ms/step - loss: 0.4141 - accuracy: 0.9995 - val_loss: 0.4095 - val_accuracy: 0.9993\n",
      "Epoch 7/10\n",
      "329/329 [==============================] - 2s 6ms/step - loss: 0.4086 - accuracy: 0.9994 - val_loss: 0.4060 - val_accuracy: 0.9993\n",
      "Epoch 8/10\n",
      "329/329 [==============================] - 3s 8ms/step - loss: 0.4030 - accuracy: 0.9991 - val_loss: 0.4029 - val_accuracy: 0.9993\n",
      "Epoch 9/10\n",
      "329/329 [==============================] - 3s 9ms/step - loss: 0.3984 - accuracy: 0.9996 - val_loss: 0.4002 - val_accuracy: 0.9993\n",
      "Epoch 10/10\n",
      "329/329 [==============================] - 3s 9ms/step - loss: 0.3935 - accuracy: 0.9998 - val_loss: 0.3981 - val_accuracy: 0.9993\n"
     ]
    }
   ],
   "source": [
    "# Train\n",
    "\n",
    "epochs = 10\n",
    "\n",
    "history = model.fit(\n",
    "    train_ds,\n",
    "    validation_data=val_ds,\n",
    "    epochs=epochs)"
   ]
  },
  {
   "cell_type": "code",
   "execution_count": 59,
   "metadata": {},
   "outputs": [
    {
     "name": "stdout",
     "output_type": "stream",
     "text": [
      "47/47 [==============================] - 0s 5ms/step - loss: 0.3989 - accuracy: 1.0000\n",
      "Loss:  0.39889824390411377\n",
      "Accuracy:  1.0\n"
     ]
    }
   ],
   "source": [
    "# Evaluate the model\n",
    "\n",
    "loss, accuracy = model.evaluate(test_ds)\n",
    "\n",
    "print(\"Loss: \", loss)\n",
    "print(\"Accuracy: \", accuracy)"
   ]
  },
  {
   "cell_type": "code",
   "execution_count": 60,
   "metadata": {},
   "outputs": [
    {
     "name": "stdout",
     "output_type": "stream",
     "text": [
      "Keys of the history variable\n",
      "dict_keys(['loss', 'accuracy', 'val_loss', 'val_accuracy'])\n"
     ]
    },
    {
     "data": {
      "image/png": "[encoded data removed]",
      "text/plain": [
       "<Figure size 432x288 with 1 Axes>"
      ]
     },
     "metadata": {
      "needs_background": "light"
     },
     "output_type": "display_data"
    }
   ],
   "source": [
    "# Plot loss\n",
    "\n",
    "history_dict = history.history\n",
    "print(\"Keys of the history variable\")\n",
    "print(history_dict.keys())\n",
    "\n",
    "acc = history_dict['accuracy']\n",
    "val_acc = history_dict['val_accuracy']\n",
    "loss = history_dict['loss']\n",
    "val_loss = history_dict['val_loss']\n",
    "\n",
    "epochs = range(1, len(acc) + 1)\n",
    "\n",
    "plt.plot(epochs, loss, 'r', label='Training loss')\n",
    "plt.plot(epochs, val_loss, 'b', label='Validation loss')\n",
    "plt.title('Training and validation loss')\n",
    "plt.xlabel('Epochs')\n",
    "plt.ylabel('Loss')\n",
    "plt.legend()\n",
    "\n",
    "plt.show()\n"
   ]
  },
  {
   "cell_type": "code",
   "execution_count": 61,
   "metadata": {},
   "outputs": [
    {
     "data": {
      "image/png": "[encoded data removed]",
      "text/plain": [
       "<Figure size 432x288 with 1 Axes>"
      ]
     },
     "metadata": {
      "needs_background": "light"
     },
     "output_type": "display_data"
    }
   ],
   "source": [
    "# Plot accuracy\n",
    "\n",
    "plt.plot(epochs, acc, 'r', label='Training acc')\n",
    "plt.plot(epochs, val_acc, 'b', label='Validation acc')\n",
    "plt.title('Training and validation accuracy')\n",
    "plt.xlabel('Epochs')\n",
    "plt.ylabel('Accuracy')\n",
    "plt.legend(loc='lower right')\n",
    "\n",
    "plt.show()"
   ]
  },
  {
   "cell_type": "code",
   "execution_count": 62,
   "metadata": {},
   "outputs": [
    {
     "name": "stdout",
     "output_type": "stream",
     "text": [
      "Probabilities: [0.39136657 0.47163558 0.4231578 ]\n",
      "Corresponding classes: ['es' 'en' 'de']\n"
     ]
    }
   ],
   "source": [
    "# Now we test it with some predictions\n",
    "def softmax(x):\n",
    "    \"\"\"Compute softmax values for each sets of scores in x.\"\"\"\n",
    "    return np.exp(x) / np.sum(np.exp(x), axis=0)\n",
    "\n",
    "examples = [\n",
    "  \"Esto me pareció increíble\",\n",
    "  \"I think it was incredible.\",\n",
    "  \"Ich finde es war unglaublich\"\n",
    "]\n",
    "\n",
    "examples_vectorized = vectorize_layer(examples)\n",
    "\n",
    "logits = model.predict(examples_vectorized)\n",
    "probits = softmax(logits)\n",
    "idx_predictions = np.argmax(probits, axis=1)\n",
    "print(\"Probabilities: {}\".format(np.max(probits, axis=1)))\n",
    "print(\"Corresponding classes: {}\".format(le.inverse_transform(idx_predictions)))"
   ]
  },
  {
   "cell_type": "code",
   "execution_count": 63,
   "metadata": {},
   "outputs": [],
   "source": [
    "# Save the model\n",
    "\n",
    "!mkdir -p saved_model\n",
    "\n",
    "model.save('saved_model/simple_mlp_novectorize.h5')"
   ]
  },
  {
   "cell_type": "markdown",
   "metadata": {},
   "source": [
    "**Achtung**: Here we are only saving the tf model. Neither the vectorize layer nor the LabelEncoder weren't saved. This will be part of our next session."
   ]
  },
  {
   "cell_type": "code",
   "execution_count": 64,
   "metadata": {},
   "outputs": [],
   "source": [
    "# Load the model\n",
    "saved_model = tf.keras.models.load_model('saved_model/simple_mlp_novectorize.h5')"
   ]
  }
 ],
 "metadata": {
  "interpreter": {
   "hash": "97b600c3800cc7a6c2b6543ba0b1cf24836fb2c5c83572a1b52b1140ef01d190"
  },
  "kernelspec": {
   "display_name": "Python 3 (ipykernel)",
   "language": "python",
   "name": "python3"
  },
  "language_info": {
   "codemirror_mode": {
    "name": "ipython",
    "version": 3
   },
   "file_extension": ".py",
   "mimetype": "text/x-python",
   "name": "python",
   "nbconvert_exporter": "python",
   "pygments_lexer": "ipython3",
   "version": "3.9.7"
  }
 },
 "nbformat": 4,
 "nbformat_minor": 2
}